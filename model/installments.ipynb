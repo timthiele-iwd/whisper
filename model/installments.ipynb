{
 "cells": [
  {
   "cell_type": "code",
   "execution_count": 1,
   "metadata": {},
   "outputs": [
    {
     "name": "stdout",
     "output_type": "stream",
     "text": [
      "Collecting git+https://github.com/openai/whisper.git\n",
      "  Cloning https://github.com/openai/whisper.git to c:\\users\\tthiele\\appdata\\local\\temp\\pip-req-build-2vhnjbae\n",
      "  Resolved https://github.com/openai/whisper.git to commit ba3f3cd54b0e5b8ce1ab3de13e32122d0d5f98ab\n",
      "  Installing build dependencies: started\n",
      "  Installing build dependencies: finished with status 'done'\n",
      "  Getting requirements to build wheel: started\n",
      "  Getting requirements to build wheel: finished with status 'done'\n",
      "  Preparing metadata (pyproject.toml): started\n",
      "  Preparing metadata (pyproject.toml): finished with status 'done'\n",
      "Collecting numba\n",
      "  Downloading numba-0.59.0-cp311-cp311-win_amd64.whl (2.6 MB)\n",
      "     ---------------------------------------- 2.6/2.6 MB 9.3 MB/s eta 0:00:00\n",
      "Requirement already satisfied: numpy in c:\\users\\tthiele\\appdata\\local\\anaconda3\\envs\\bilderkennung\\lib\\site-packages (from openai-whisper==20231117) (1.23.5)\n",
      "Requirement already satisfied: torch in c:\\users\\tthiele\\appdata\\local\\anaconda3\\envs\\bilderkennung\\lib\\site-packages (from openai-whisper==20231117) (2.0.0)\n",
      "Requirement already satisfied: tqdm in c:\\users\\tthiele\\appdata\\local\\anaconda3\\envs\\bilderkennung\\lib\\site-packages (from openai-whisper==20231117) (4.65.0)\n",
      "Collecting more-itertools\n",
      "  Downloading more_itertools-10.2.0-py3-none-any.whl (57 kB)\n",
      "     ---------------------------------------- 57.0/57.0 kB 2.9 MB/s eta 0:00:00\n",
      "Collecting tiktoken\n",
      "  Downloading tiktoken-0.6.0-cp311-cp311-win_amd64.whl (798 kB)\n",
      "     ------------------------------------- 798.7/798.7 kB 10.0 MB/s eta 0:00:00\n",
      "Collecting llvmlite<0.43,>=0.42.0dev0\n",
      "  Downloading llvmlite-0.42.0-cp311-cp311-win_amd64.whl (28.1 MB)\n",
      "     --------------------------------------- 28.1/28.1 MB 10.6 MB/s eta 0:00:00\n",
      "Collecting regex>=2022.1.18\n",
      "  Downloading regex-2023.12.25-cp311-cp311-win_amd64.whl (269 kB)\n",
      "     -------------------------------------- 269.5/269.5 kB 8.4 MB/s eta 0:00:00\n",
      "Requirement already satisfied: requests>=2.26.0 in c:\\users\\tthiele\\appdata\\local\\anaconda3\\envs\\bilderkennung\\lib\\site-packages (from tiktoken->openai-whisper==20231117) (2.28.1)\n",
      "Requirement already satisfied: filelock in c:\\users\\tthiele\\appdata\\local\\anaconda3\\envs\\bilderkennung\\lib\\site-packages (from torch->openai-whisper==20231117) (3.12.0)\n",
      "Requirement already satisfied: typing-extensions in c:\\users\\tthiele\\appdata\\local\\anaconda3\\envs\\bilderkennung\\lib\\site-packages (from torch->openai-whisper==20231117) (4.5.0)\n",
      "Requirement already satisfied: sympy in c:\\users\\tthiele\\appdata\\local\\anaconda3\\envs\\bilderkennung\\lib\\site-packages (from torch->openai-whisper==20231117) (1.11.1)\n",
      "Requirement already satisfied: networkx in c:\\users\\tthiele\\appdata\\local\\anaconda3\\envs\\bilderkennung\\lib\\site-packages (from torch->openai-whisper==20231117) (3.1)\n",
      "Requirement already satisfied: jinja2 in c:\\users\\tthiele\\appdata\\local\\anaconda3\\envs\\bilderkennung\\lib\\site-packages (from torch->openai-whisper==20231117) (3.1.2)\n",
      "Requirement already satisfied: colorama in c:\\users\\tthiele\\appdata\\local\\anaconda3\\envs\\bilderkennung\\lib\\site-packages (from tqdm->openai-whisper==20231117) (0.4.6)\n",
      "Requirement already satisfied: charset-normalizer<3,>=2 in c:\\users\\tthiele\\appdata\\local\\anaconda3\\envs\\bilderkennung\\lib\\site-packages (from requests>=2.26.0->tiktoken->openai-whisper==20231117) (2.0.4)\n",
      "Requirement already satisfied: idna<4,>=2.5 in c:\\users\\tthiele\\appdata\\local\\anaconda3\\envs\\bilderkennung\\lib\\site-packages (from requests>=2.26.0->tiktoken->openai-whisper==20231117) (2.10)\n",
      "Requirement already satisfied: urllib3<1.27,>=1.21.1 in c:\\users\\tthiele\\appdata\\local\\anaconda3\\envs\\bilderkennung\\lib\\site-packages (from requests>=2.26.0->tiktoken->openai-whisper==20231117) (1.26.15)\n",
      "Requirement already satisfied: certifi>=2017.4.17 in c:\\users\\tthiele\\appdata\\local\\anaconda3\\envs\\bilderkennung\\lib\\site-packages (from requests>=2.26.0->tiktoken->openai-whisper==20231117) (2022.12.7)\n",
      "Requirement already satisfied: MarkupSafe>=2.0 in c:\\users\\tthiele\\appdata\\local\\anaconda3\\envs\\bilderkennung\\lib\\site-packages (from jinja2->torch->openai-whisper==20231117) (2.1.2)\n",
      "Requirement already satisfied: mpmath>=0.19 in c:\\users\\tthiele\\appdata\\local\\anaconda3\\envs\\bilderkennung\\lib\\site-packages (from sympy->torch->openai-whisper==20231117) (1.3.0)\n",
      "Building wheels for collected packages: openai-whisper\n",
      "  Building wheel for openai-whisper (pyproject.toml): started\n",
      "  Building wheel for openai-whisper (pyproject.toml): finished with status 'done'\n",
      "  Created wheel for openai-whisper: filename=openai_whisper-20231117-py3-none-any.whl size=812160 sha256=7a0d79e726acba68ae3643dc73573208a0adf05ce4da330bf3aa6aa844457adb\n",
      "  Stored in directory: C:\\Users\\Tthiele\\AppData\\Local\\Temp\\pip-ephem-wheel-cache-c4e_x1dm\\wheels\\1f\\1d\\98\\9583695e6695a6ac0ad42d87511097dce5ba486647dbfecb0e\n",
      "Successfully built openai-whisper\n",
      "Installing collected packages: regex, more-itertools, llvmlite, tiktoken, numba, openai-whisper\n",
      "Successfully installed llvmlite-0.42.0 more-itertools-10.2.0 numba-0.59.0 openai-whisper-20231117 regex-2023.12.25 tiktoken-0.6.0\n"
     ]
    },
    {
     "name": "stderr",
     "output_type": "stream",
     "text": [
      "  Running command git clone --filter=blob:none --quiet https://github.com/openai/whisper.git 'C:\\Users\\Tthiele\\AppData\\Local\\Temp\\pip-req-build-2vhnjbae'\n",
      "Der Befehl \"sudo\" ist entweder falsch geschrieben oder\n",
      "konnte nicht gefunden werden.\n"
     ]
    },
    {
     "name": "stdout",
     "output_type": "stream",
     "text": [
      "Collecting librosa\n",
      "  Downloading librosa-0.10.1-py3-none-any.whl (253 kB)\n",
      "     -------------------------------------- 253.7/253.7 kB 2.2 MB/s eta 0:00:00\n",
      "Collecting audioread>=2.1.9\n",
      "  Downloading audioread-3.0.1-py3-none-any.whl (23 kB)\n",
      "Requirement already satisfied: numpy!=1.22.0,!=1.22.1,!=1.22.2,>=1.20.3 in c:\\users\\tthiele\\appdata\\local\\anaconda3\\envs\\bilderkennung\\lib\\site-packages (from librosa) (1.23.5)\n",
      "Requirement already satisfied: scipy>=1.2.0 in c:\\users\\tthiele\\appdata\\local\\anaconda3\\envs\\bilderkennung\\lib\\site-packages (from librosa) (1.10.1)\n",
      "Requirement already satisfied: scikit-learn>=0.20.0 in c:\\users\\tthiele\\appdata\\local\\anaconda3\\envs\\bilderkennung\\lib\\site-packages (from librosa) (1.2.2)\n",
      "Requirement already satisfied: joblib>=0.14 in c:\\users\\tthiele\\appdata\\local\\anaconda3\\envs\\bilderkennung\\lib\\site-packages (from librosa) (1.1.1)\n",
      "Requirement already satisfied: decorator>=4.3.0 in c:\\users\\tthiele\\appdata\\local\\anaconda3\\envs\\bilderkennung\\lib\\site-packages (from librosa) (5.1.1)\n",
      "Requirement already satisfied: numba>=0.51.0 in c:\\users\\tthiele\\appdata\\local\\anaconda3\\envs\\bilderkennung\\lib\\site-packages (from librosa) (0.59.0)\n",
      "Collecting soundfile>=0.12.1\n",
      "  Downloading soundfile-0.12.1-py2.py3-none-win_amd64.whl (1.0 MB)\n",
      "     ---------------------------------------- 1.0/1.0 MB 10.6 MB/s eta 0:00:00\n",
      "Requirement already satisfied: pooch>=1.0 in c:\\users\\tthiele\\appdata\\local\\anaconda3\\envs\\bilderkennung\\lib\\site-packages (from librosa) (1.4.0)\n",
      "Collecting soxr>=0.3.2\n",
      "  Downloading soxr-0.3.7-cp311-cp311-win_amd64.whl (184 kB)\n",
      "     ------------------------------------- 184.7/184.7 kB 10.9 MB/s eta 0:00:00\n",
      "Requirement already satisfied: typing-extensions>=4.1.1 in c:\\users\\tthiele\\appdata\\local\\anaconda3\\envs\\bilderkennung\\lib\\site-packages (from librosa) (4.5.0)\n",
      "Collecting lazy-loader>=0.1\n",
      "  Downloading lazy_loader-0.3-py3-none-any.whl (9.1 kB)\n",
      "Collecting msgpack>=1.0\n",
      "  Downloading msgpack-1.0.7-cp311-cp311-win_amd64.whl (222 kB)\n",
      "     ------------------------------------- 222.9/222.9 kB 14.2 MB/s eta 0:00:00\n",
      "Requirement already satisfied: llvmlite<0.43,>=0.42.0dev0 in c:\\users\\tthiele\\appdata\\local\\anaconda3\\envs\\bilderkennung\\lib\\site-packages (from numba>=0.51.0->librosa) (0.42.0)\n",
      "Requirement already satisfied: requests in c:\\users\\tthiele\\appdata\\local\\anaconda3\\envs\\bilderkennung\\lib\\site-packages (from pooch>=1.0->librosa) (2.28.1)\n",
      "Requirement already satisfied: packaging in c:\\users\\tthiele\\appdata\\local\\anaconda3\\envs\\bilderkennung\\lib\\site-packages (from pooch>=1.0->librosa) (23.0)\n",
      "Requirement already satisfied: appdirs in c:\\users\\tthiele\\appdata\\local\\anaconda3\\envs\\bilderkennung\\lib\\site-packages (from pooch>=1.0->librosa) (1.4.4)\n",
      "Requirement already satisfied: threadpoolctl>=2.0.0 in c:\\users\\tthiele\\appdata\\local\\anaconda3\\envs\\bilderkennung\\lib\\site-packages (from scikit-learn>=0.20.0->librosa) (2.2.0)\n",
      "Requirement already satisfied: cffi>=1.0 in c:\\users\\tthiele\\appdata\\local\\anaconda3\\envs\\bilderkennung\\lib\\site-packages (from soundfile>=0.12.1->librosa) (1.15.1)\n",
      "Requirement already satisfied: pycparser in c:\\users\\tthiele\\appdata\\local\\anaconda3\\envs\\bilderkennung\\lib\\site-packages (from cffi>=1.0->soundfile>=0.12.1->librosa) (2.21)\n",
      "Requirement already satisfied: charset-normalizer<3,>=2 in c:\\users\\tthiele\\appdata\\local\\anaconda3\\envs\\bilderkennung\\lib\\site-packages (from requests->pooch>=1.0->librosa) (2.0.4)\n",
      "Requirement already satisfied: idna<4,>=2.5 in c:\\users\\tthiele\\appdata\\local\\anaconda3\\envs\\bilderkennung\\lib\\site-packages (from requests->pooch>=1.0->librosa) (2.10)\n",
      "Requirement already satisfied: urllib3<1.27,>=1.21.1 in c:\\users\\tthiele\\appdata\\local\\anaconda3\\envs\\bilderkennung\\lib\\site-packages (from requests->pooch>=1.0->librosa) (1.26.15)\n",
      "Requirement already satisfied: certifi>=2017.4.17 in c:\\users\\tthiele\\appdata\\local\\anaconda3\\envs\\bilderkennung\\lib\\site-packages (from requests->pooch>=1.0->librosa) (2022.12.7)\n",
      "Installing collected packages: soxr, msgpack, lazy-loader, audioread, soundfile, librosa\n",
      "Successfully installed audioread-3.0.1 lazy-loader-0.3 librosa-0.10.1 msgpack-1.0.7 soundfile-0.12.1 soxr-0.3.7\n"
     ]
    }
   ],
   "source": [
    "!pip install git+https://github.com/openai/whisper.git\n",
    "!sudo apt update && sudo apt install ffmpeg\n",
    "!pip install librosa\n",
    "!pip install customtkinter"
   ]
  }
 ],
 "metadata": {
  "kernelspec": {
   "display_name": "whisper",
   "language": "python",
   "name": "python3"
  },
  "language_info": {
   "codemirror_mode": {
    "name": "ipython",
    "version": 3
   },
   "file_extension": ".py",
   "mimetype": "text/x-python",
   "name": "python",
   "nbconvert_exporter": "python",
   "pygments_lexer": "ipython3",
   "version": "3.11.3"
  }
 },
 "nbformat": 4,
 "nbformat_minor": 2
}
